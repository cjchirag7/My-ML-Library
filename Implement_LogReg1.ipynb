{
 "cells": [
  {
   "cell_type": "code",
   "execution_count": 1,
   "metadata": {},
   "outputs": [
    {
     "name": "stdout",
     "output_type": "stream",
     "text": [
      "The paramaters obtained are: [array([1.42408987]), array([4.25501526, 3.6978271 ])]\n"
     ]
    }
   ],
   "source": [
    "import numpy as np\n",
    "import LogisticRegression as LR\n",
    "\n",
    "def normalise(Xin):\n",
    "        return (Xin-np.mean(Xin,axis=0))/np.std(Xin,axis=0)    # NORMALISING FEATURES\n",
    "\n",
    "X=np.genfromtxt('LogisticRegressionData1.txt',delimiter=',',usecols=(0,1))\n",
    "Y=np.genfromtxt('LogisticRegressionData1.txt',delimiter=',',usecols=-1)\n",
    "sz=X.shape[0]\n",
    "X=normalise(X)   #normalising X\n",
    "\n",
    "# separation of training set and test set\n",
    "test_sz=sz//4  \n",
    "tr_sz=sz-test_sz   \n",
    "train=LR.logReg()\n",
    "train.set(X[:tr_sz-1,:],Y[:tr_sz-1])\n",
    "test=LR.logReg()\n",
    "test.set(X[tr_sz:,:],Y[tr_sz:])\n",
    "\n",
    "\n",
    "# Mini-Batch Gradient-Descent\n",
    "train.miniGradientDescent(10)\n",
    "\n",
    "# Parameters\n",
    "print(\"The paramaters obtained are: \"+str(train.params()))\n"
   ]
  },
  {
   "cell_type": "code",
   "execution_count": 2,
   "metadata": {},
   "outputs": [
    {
     "name": "stdout",
     "output_type": "stream",
     "text": [
      "The accuracy on the test set is: 88.0 %\n"
     ]
    }
   ],
   "source": [
    "# Testing accuracy of prediction on test set\n",
    "print(\"The accuracy on the test set is: \" + str(train.accuracy(test)) + \" %\")\n"
   ]
  },
  {
   "cell_type": "code",
   "execution_count": 3,
   "metadata": {},
   "outputs": [
    {
     "name": "stdout",
     "output_type": "stream",
     "text": [
      "The paramaters obtained are: [0.59363677] and [[2.18454912 1.84592358]]\n"
     ]
    }
   ],
   "source": [
    "# Comparing parameters and accuracy with Sci-kit Learn\n",
    "\n",
    "from sklearn.linear_model import LogisticRegression\n",
    "reg=LogisticRegression()\n",
    "reg.fit(X[:tr_sz-1,:],Y[:tr_sz-1])\n",
    "\n",
    "# Parameters\n",
    "print(\"The paramaters obtained are: \"+str(reg.intercept_)+\" and \"+str(reg.coef_))"
   ]
  },
  {
   "cell_type": "code",
   "execution_count": 7,
   "metadata": {},
   "outputs": [
    {
     "name": "stdout",
     "output_type": "stream",
     "text": [
      "The accuracy on the test set is: 84.0 %\n"
     ]
    }
   ],
   "source": [
    "# Testing accuracy of prediction on test set\n",
    "\n",
    "prediction=reg.predict(X[tr_sz:])\n",
    "acc=(sum(prediction==Y[tr_sz:])/test_sz)*100\n",
    "print(\"The accuracy on the test set is: \" + str(acc) + \" %\")"
   ]
  }
 ],
 "metadata": {
  "kernelspec": {
   "display_name": "Python 3",
   "language": "python",
   "name": "python3"
  },
  "language_info": {
   "codemirror_mode": {
    "name": "ipython",
    "version": 3
   },
   "file_extension": ".py",
   "mimetype": "text/x-python",
   "name": "python",
   "nbconvert_exporter": "python",
   "pygments_lexer": "ipython3",
   "version": "3.7.0"
  }
 },
 "nbformat": 4,
 "nbformat_minor": 2
}
