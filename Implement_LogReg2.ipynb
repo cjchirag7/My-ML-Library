{
 "cells": [
  {
   "cell_type": "code",
   "execution_count": 7,
   "metadata": {},
   "outputs": [
    {
     "name": "stdout",
     "output_type": "stream",
     "text": [
      "The paramaters obtained are: [array([0.18022662]), array([-1.23917914e+209, -1.41399129e+209])]\n",
      "The accuracy on the test set is: 51.724137931034484 %\n"
     ]
    }
   ],
   "source": [
    "import numpy as np\n",
    "import LogisticRegression as LR\n",
    "\n",
    "def normalise(Xin):\n",
    "        return (Xin-np.mean(Xin,axis=0))/np.std(Xin,axis=0)    # NORMALISING FEATURES\n",
    "\n",
    "data=np.genfromtxt('LogisticRegressionData2.txt',delimiter=',',usecols=(0,1,2))\n",
    "np.random.shuffle(data); # Since data given is sorted\n",
    "Y=data[:,-1]\n",
    "X=data[:,:-1]\n",
    "sz=X.shape[0]\n",
    "X=normalise(X)   #normalising X\n",
    "\n",
    "# separation of training set and test set\n",
    "test_sz=sz//4  \n",
    "tr_sz=sz-test_sz   \n",
    "train=LR.logReg()\n",
    "train.set(X[:tr_sz-1,:],Y[:tr_sz-1])\n",
    "test=LR.logReg()\n",
    "test.set(X[tr_sz:,:],Y[tr_sz:])\n",
    "\n",
    "# Gradient-Descent\n",
    "train.GradientDescent(LAMBDA=200)\n",
    "\n",
    "# Parameters\n",
    "print(\"The paramaters obtained are: \"+str(train.params()))\n",
    "\n",
    "# Testing accuracy of prediction on test set\n",
    "print(\"The accuracy on the test set is: \" + str(train.accuracy(test)) + \" %\")\n"
   ]
  },
  {
   "cell_type": "code",
   "execution_count": 8,
   "metadata": {},
   "outputs": [
    {
     "name": "stdout",
     "output_type": "stream",
     "text": [
      "The paramaters obtained are: [-0.00152048] and [[-0.09624731 -0.15426193]]\n",
      "The accuracy on the test set is: 44.827586206896555 %\n"
     ]
    }
   ],
   "source": [
    "# Comparing parameters and accuracy with Sci-kit Learn\n",
    "\n",
    "from sklearn.linear_model import LogisticRegression\n",
    "reg=LogisticRegression()\n",
    "reg.fit(X[:tr_sz-1,:],Y[:tr_sz-1])\n",
    "\n",
    "# Parameters\n",
    "\n",
    "print(\"The paramaters obtained are: \"+str(reg.intercept_)+\" and \"+str(reg.coef_))\n",
    "\n",
    "# Testing accuracy of prediction on test set\n",
    "\n",
    "prediction=reg.predict(X[tr_sz:])\n",
    "acc=(sum(prediction==Y[tr_sz:])/test_sz)*100\n",
    "print(\"The accuracy on the test set is: \" + str(acc) + \" %\")"
   ]
  }
 ],
 "metadata": {
  "kernelspec": {
   "display_name": "Python 3",
   "language": "python",
   "name": "python3"
  },
  "language_info": {
   "codemirror_mode": {
    "name": "ipython",
    "version": 3
   },
   "file_extension": ".py",
   "mimetype": "text/x-python",
   "name": "python",
   "nbconvert_exporter": "python",
   "pygments_lexer": "ipython3",
   "version": "3.7.0"
  }
 },
 "nbformat": 4,
 "nbformat_minor": 2
}
