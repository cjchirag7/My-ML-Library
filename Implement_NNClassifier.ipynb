{
 "cells": [
  {
   "cell_type": "code",
   "execution_count": 1,
   "metadata": {},
   "outputs": [
    {
     "name": "stdout",
     "output_type": "stream",
     "text": [
      "The labels are : [0. 1. 2. 3.]\n"
     ]
    }
   ],
   "source": [
    "import numpy as np\n",
    "data=np.genfromtxt('Outlier.txt',delimiter=',')\n",
    "np.random.shuffle(data); # Since data given is sorted\n",
    "Y=data[:,-1]\n",
    "X=data[:,:-1]\n",
    "#X=np.genfromtxt('X.csv',delimiter=',')\n",
    "#Y=np.genfromtxt('y.csv',delimiter=',')\n",
    "print(\"The labels are : \"+str(np.unique(Y)))  \n",
    "#np.random.shuffle((data['X']),(data['y']))"
   ]
  },
  {
   "cell_type": "code",
   "execution_count": 24,
   "metadata": {},
   "outputs": [
    {
     "name": "stdout",
     "output_type": "stream",
     "text": [
      "Accuracy on test set:  48.66666666666667%\n"
     ]
    }
   ],
   "source": [
    "import numpy as np\n",
    "import NNClassifier as NNC\n",
    "def normalise(Xin):\n",
    "        return (Xin-np.mean(Xin,axis=0))/np.std(Xin,axis=0)    # NORMALISING FEATURES\n",
    "\n",
    "sz=X.shape[0]\n",
    "X=normalise(X)   #normalising X\n",
    "# separation of training set and test set\n",
    "test_sz=sz//4  \n",
    "tr_sz=sz-test_sz   \n",
    "layer_sz=[4,4,4]\n",
    "train=NNC.NNClassifier()\n",
    "train.set(X[:tr_sz-1,:],Y[:tr_sz-1],layer_sz)\n",
    "test=NNC.NNClassifier()\n",
    "test.set(X[tr_sz:,:],Y[tr_sz:],layer_sz)\n",
    "train.GradientDescent(LAMBDA=0,alpha=0.3,iter=2000)\n",
    "print(\"Accuracy on test set:  \"+str(train.accuracy(test))+\"%\")"
   ]
  },
  {
   "cell_type": "code",
   "execution_count": 39,
   "metadata": {},
   "outputs": [
    {
     "name": "stdout",
     "output_type": "stream",
     "text": [
      "Accuracy on test set (By sklearn) : 46.0%\n"
     ]
    },
    {
     "name": "stderr",
     "output_type": "stream",
     "text": [
      "C:\\ProgramData\\Anaconda3\\lib\\site-packages\\sklearn\\neural_network\\multilayer_perceptron.py:358: UserWarning: Got `batch_size` less than 1 or larger than sample size. It is going to be clipped\n",
      "  warnings.warn(\"Got `batch_size` less than 1 or larger than \"\n",
      "C:\\ProgramData\\Anaconda3\\lib\\site-packages\\sklearn\\neural_network\\multilayer_perceptron.py:564: ConvergenceWarning: Stochastic Optimizer: Maximum iterations (200) reached and the optimization hasn't converged yet.\n",
      "  % self.max_iter, ConvergenceWarning)\n"
     ]
    }
   ],
   "source": [
    "from sklearn.neural_network import MLPClassifier\n",
    "clf=MLPClassifier(activation='relu',batch_size=tr_sz,hidden_layer_sizes=(4,4,4))\n",
    "clf.fit(X[:tr_sz-1,:],Y[:tr_sz-1])\n",
    "acc=(sum(clf.predict(X[tr_sz:,:])==Y[tr_sz:])/test_sz)*100\n",
    "print(\"Accuracy on test set (By sklearn) : \"+str(acc)+\"%\")"
   ]
  }
 ],
 "metadata": {
  "kernelspec": {
   "display_name": "Python 3",
   "language": "python",
   "name": "python3"
  },
  "language_info": {
   "codemirror_mode": {
    "name": "ipython",
    "version": 3
   },
   "file_extension": ".py",
   "mimetype": "text/x-python",
   "name": "python",
   "nbconvert_exporter": "python",
   "pygments_lexer": "ipython3",
   "version": "3.7.0"
  }
 },
 "nbformat": 4,
 "nbformat_minor": 2
}
