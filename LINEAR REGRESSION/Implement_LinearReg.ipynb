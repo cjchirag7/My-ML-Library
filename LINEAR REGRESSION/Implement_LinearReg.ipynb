{
 "cells": [
  {
   "cell_type": "code",
   "execution_count": 13,
   "metadata": {},
   "outputs": [
    {
     "name": "stdout",
     "output_type": "stream",
     "text": [
      "The paramaters obtained are: [array([347406.54262267]), array([117084.48632013,    140.32352576])]\n"
     ]
    }
   ],
   "source": [
    "import numpy as np\n",
    "import LinearRegression as LR\n",
    "    \n",
    "def normalise(Xin):\n",
    "        return (Xin-np.mean(Xin,axis=0))/np.std(Xin,axis=0)    # NORMALISING FEATURES\n",
    "\n",
    "X=np.genfromtxt('LinearRegressionData.txt',delimiter=',',usecols=(0,1))\n",
    "Y=np.genfromtxt('LinearRegressionData.txt',delimiter=',',usecols=-1)\n",
    "sz=X.shape[0]\n",
    "X=normalise(X)\n",
    "\n",
    "# separation of training set and test set\n",
    "test_sz=sz//4   \n",
    "tr_sz=sz-test_sz   \n",
    "train=LR.linReg()\n",
    "train.set(X[:tr_sz-1,:],Y[:tr_sz-1])\n",
    "test=LR.linReg()\n",
    "test.set(X[tr_sz:,:],Y[tr_sz:])\n",
    "\n",
    "# Mini-Batch Gradient-Descent\n",
    "train.miniGradientDescent(5)\n",
    "\n",
    "# Parameters\n",
    "print(\"The paramaters obtained are: \"+str(train.params()))\n"
   ]
  },
  {
   "cell_type": "code",
   "execution_count": 14,
   "metadata": {},
   "outputs": [
    {
     "name": "stdout",
     "output_type": "stream",
     "text": [
      "The accuracy on test set is: 93.33333625940432 %\n"
     ]
    }
   ],
   "source": [
    "# Testing accuracy of prediction on test set\n",
    "print(\"The accuracy on test set is: \" + str(train.accuracy(test)) + \" %\")\n"
   ]
  },
  {
   "cell_type": "code",
   "execution_count": 15,
   "metadata": {},
   "outputs": [
    {
     "name": "stdout",
     "output_type": "stream",
     "text": [
      "The paramaters obtained are: 346257.2254811942 and [118863.41370331   -264.59474243]\n"
     ]
    }
   ],
   "source": [
    "# Comparing parameters and accuracy with Sci-kit Learn\n",
    "\n",
    "from sklearn.linear_model import LinearRegression\n",
    "reg=LinearRegression().fit(X[:tr_sz-1,:],Y[:tr_sz-1])\n",
    "\n",
    "# Parameters\n",
    "print(\"The paramaters obtained are: \"+str(reg.intercept_)+\" and \"+str(reg.coef_))\n"
   ]
  },
  {
   "cell_type": "code",
   "execution_count": 16,
   "metadata": {},
   "outputs": [
    {
     "name": "stdout",
     "output_type": "stream",
     "text": [
      "The average accuracy in test set is: 93.92711837647583 %\n"
     ]
    }
   ],
   "source": [
    "# Testing accuracy of prediction on test set\n",
    "prediction=reg.predict(X[tr_sz:,:])\n",
    "Error=((prediction-Y[tr_sz:])/Y[tr_sz:])*100\n",
    "print(\"The average accuracy in test set is: \" + str(100-np.mean(Error)) + \" %\")"
   ]
  }
 ],
 "metadata": {
  "kernelspec": {
   "display_name": "Python 3",
   "language": "python",
   "name": "python3"
  },
  "language_info": {
   "codemirror_mode": {
    "name": "ipython",
    "version": 3
   },
   "file_extension": ".py",
   "mimetype": "text/x-python",
   "name": "python",
   "nbconvert_exporter": "python",
   "pygments_lexer": "ipython3",
   "version": "3.7.0"
  }
 },
 "nbformat": 4,
 "nbformat_minor": 2
}
